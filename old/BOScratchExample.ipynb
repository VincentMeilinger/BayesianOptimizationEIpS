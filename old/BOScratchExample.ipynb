{
 "cells": [
  {
   "cell_type": "code",
   "execution_count": 1,
   "metadata": {},
   "outputs": [],
   "source": [
    "import numpy as np\n",
    "from scipy.stats import norm\n",
    "from matplotlib import pyplot as plt\n",
    "from bayes_optim import BayesianOptimizer\n",
    "%matplotlib inline\n"
   ]
  },
  {
   "cell_type": "markdown",
   "metadata": {},
   "source": [
    "## Bayesian Optimization"
   ]
  },
  {
   "cell_type": "code",
   "execution_count": 2,
   "metadata": {
    "pycharm": {
     "name": "#%%\n"
    }
   },
   "outputs": [],
   "source": [
    "def f(X, noise=0): #0.05\n",
    "    X = X/5\n",
    "    noise = np.random.normal(0, noise)\n",
    "    return (X**2 * np.sin(5 * np.pi * X)**6.0) + noise * np.random.randn(*X.shape)\n",
    "\n",
    "sample_range = np.arange(0, 5, 0.01)[:, np.newaxis]\n",
    "y_true = f(sample_range, 0) \n",
    "y_noise = f(sample_range)\n",
    "\n",
    "#print(sample_range)\n",
    "#print(y_true)"
   ]
  },
  {
   "cell_type": "code",
   "metadata": {
    "pycharm": {
     "name": "#%%\n"
    }
   },
   "source": [
    "bo = BayesianOptimizer(x_samples=sample_range, sigma=1, length_scale=0.5, noise=0.2)\n",
    "#X, y = bo.optimise(f, np.asarray([sample_range[0]]))\n",
    "\n",
    "bo.X = np.asarray([[0.5]])\n",
    "bo.y = f(bo.X)\n",
    "#x_best = np.array([0])\n",
    "for i in range(10):\n",
    "    print(\"=======================\")\n",
    "    print(\"iteration:      \", i)\n",
    "    print(\"calculating posterior ...\")\n",
    "    bo.posterior()\n",
    "    print(\"calculating aquisition...\")\n",
    "    x_sample = bo.max_aquisition(aq_func=\"PI\")\n",
    "    print(\"current sample: \", x_sample)\n",
    "    y_sample = f(x_sample)\n",
    "    print(\"current value:  \", y_sample)\n",
    "    bo.X = np.vstack((bo.X, x_sample))\n",
    "    bo.y = np.vstack((bo.y, y_sample))\n",
    "    print(\"\")\n",
    "\n",
    "\n",
    "    p, ax = plt.subplots(1, 1, figsize=(10, 5))\n",
    "    colors=['black', 'goldenrod', 'mediumpurple', 'seagreen', 'turquoise', 'orange', 'blue', 'darkseagreen']\n",
    "    \n",
    "    ax.plot(sample_range, y_true, 'b', c=colors.pop(0))\n",
    "    ax.plot(sample_range, y_noise, 'b', c=colors.pop(0))\n",
    "    \n",
    "    # mean and var\n",
    "    ax.plot(sample_range, bo.mean, 'b', c=colors.pop(0))\n",
    "    ax.fill_between(sample_range.flatten(), (bo.mean - bo.var).flatten(), (bo.mean + bo.var).flatten(), alpha=0.5, color='red')\n",
    "    \n",
    "    # aquisition func\n",
    "    ax.plot(sample_range, bo.aquisition, 'b', c=colors.pop(0))\n",
    "    \n",
    "    # samples\n",
    "    ax.plot(bo.X, bo.y, 'k*', color='red')\n",
    "    \n",
    "    plt.xlim(0, 5)\n",
    "    plt.ylim(-0.5, 1.5)\n",
    "    plt.plot()\n",
    "\n",
    "\n",
    "\n"
   ],
   "execution_count": 3,
   "outputs": [
    {
     "name": "stdout",
     "output_type": "stream",
     "text": [
      "=======================\n",
      "iteration:       0\n",
      "calculating posterior ...\n",
      "calculating aquisition...\n"
     ]
    },
    {
     "ename": "AttributeError",
     "evalue": "'BayesianOptimizer' object has no attribute 'max_aquisition'",
     "output_type": "error",
     "traceback": [
      "\u001B[1;31m---------------------------------------------------------------------------\u001B[0m",
      "\u001B[1;31mAttributeError\u001B[0m                            Traceback (most recent call last)",
      "\u001B[1;32m~\\AppData\\Local\\Temp/ipykernel_12628/2107322816.py\u001B[0m in \u001B[0;36m<module>\u001B[1;34m\u001B[0m\n\u001B[0;32m     11\u001B[0m     \u001B[0mbo\u001B[0m\u001B[1;33m.\u001B[0m\u001B[0mposterior\u001B[0m\u001B[1;33m(\u001B[0m\u001B[1;33m)\u001B[0m\u001B[1;33m\u001B[0m\u001B[1;33m\u001B[0m\u001B[0m\n\u001B[0;32m     12\u001B[0m     \u001B[0mprint\u001B[0m\u001B[1;33m(\u001B[0m\u001B[1;34m\"calculating aquisition...\"\u001B[0m\u001B[1;33m)\u001B[0m\u001B[1;33m\u001B[0m\u001B[1;33m\u001B[0m\u001B[0m\n\u001B[1;32m---> 13\u001B[1;33m     \u001B[0mx_sample\u001B[0m \u001B[1;33m=\u001B[0m \u001B[0mbo\u001B[0m\u001B[1;33m.\u001B[0m\u001B[0mmax_aquisition\u001B[0m\u001B[1;33m(\u001B[0m\u001B[0maq_func\u001B[0m\u001B[1;33m=\u001B[0m\u001B[1;34m\"PI\"\u001B[0m\u001B[1;33m)\u001B[0m\u001B[1;33m\u001B[0m\u001B[1;33m\u001B[0m\u001B[0m\n\u001B[0m\u001B[0;32m     14\u001B[0m     \u001B[0mprint\u001B[0m\u001B[1;33m(\u001B[0m\u001B[1;34m\"current sample: \"\u001B[0m\u001B[1;33m,\u001B[0m \u001B[0mx_sample\u001B[0m\u001B[1;33m)\u001B[0m\u001B[1;33m\u001B[0m\u001B[1;33m\u001B[0m\u001B[0m\n\u001B[0;32m     15\u001B[0m     \u001B[0my_sample\u001B[0m \u001B[1;33m=\u001B[0m \u001B[0mf\u001B[0m\u001B[1;33m(\u001B[0m\u001B[0mx_sample\u001B[0m\u001B[1;33m)\u001B[0m\u001B[1;33m\u001B[0m\u001B[1;33m\u001B[0m\u001B[0m\n",
      "\u001B[1;31mAttributeError\u001B[0m: 'BayesianOptimizer' object has no attribute 'max_aquisition'"
     ]
    }
   ]
  }
 ],
 "metadata": {
  "kernelspec": {
   "display_name": "Python 3",
   "language": "python",
   "name": "python3"
  },
  "language_info": {
   "codemirror_mode": {
    "name": "ipython",
    "version": 3
   },
   "file_extension": ".py",
   "mimetype": "text/x-python",
   "name": "python",
   "nbconvert_exporter": "python",
   "pygments_lexer": "ipython3",
   "version": "3.8.2"
  },
  "pycharm": {
   "stem_cell": {
    "cell_type": "raw",
    "source": [],
    "metadata": {
     "collapsed": false
    }
   }
  }
 },
 "nbformat": 4,
 "nbformat_minor": 4
}